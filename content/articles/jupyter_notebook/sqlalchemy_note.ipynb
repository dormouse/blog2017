{
 "cells": [
  {
   "cell_type": "markdown",
   "metadata": {},
   "source": [
    "# sqlalchemy note"
   ]
  },
  {
   "cell_type": "code",
   "execution_count": 1,
   "metadata": {
    "collapsed": false
   },
   "outputs": [
    {
     "data": {
      "text/plain": [
       "'1.1.4'"
      ]
     },
     "execution_count": 1,
     "metadata": {},
     "output_type": "execute_result"
    }
   ],
   "source": [
    "import sqlalchemy\n",
    "from sqlalchemy import ForeignKey\n",
    "from sqlalchemy.orm import relationship\n",
    "from sqlalchemy import Column, Integer, String\n",
    "from sqlalchemy import create_engine\n",
    "from sqlalchemy.orm import sessionmaker\n",
    "from sqlalchemy.ext.declarative import declarative_base\n",
    "sqlalchemy.__version__"
   ]
  },
  {
   "cell_type": "markdown",
   "metadata": {},
   "source": [
    "## 创建示例数据库"
   ]
  },
  {
   "cell_type": "code",
   "execution_count": 2,
   "metadata": {
    "collapsed": false
   },
   "outputs": [],
   "source": [
    "# engine = create_engine('sqlite:///:memory:', echo=True) #显示引擎信息\n",
    "engine = create_engine('sqlite:///:memory:', echo=False)\n",
    "Base = declarative_base()\n",
    "\n",
    "\n",
    "class User(Base):\n",
    "    __tablename__ = 'users'\n",
    "    id = Column(Integer, primary_key=True)\n",
    "    name = Column(\n",
    "        String,\n",
    "        default=\"未命名\",\n",
    "        info={\"width\":50, \"heigh\":100}\n",
    "    )\n",
    "    fullname = Column(String)\n",
    "    password = Column(String)\n",
    "    \n",
    "    level_id = Column(Integer, ForeignKey('level.id'), default=1)\n",
    "    level = relationship(\"Level\")\n",
    "\n",
    "    def __repr__(self):\n",
    "        return \"<User(name='%s', fullname='%s', password='%s')>\" % (\n",
    "            self.name, self.fullname, self.password)\n",
    "    \n",
    "    def as_dict(self):\n",
    "        values = {}\n",
    "        for col in self.__table__.columns:\n",
    "            name = col.name\n",
    "            value = getattr(self, name)\n",
    "            values[name] = value\n",
    "        return values\n",
    "        \n",
    "        \n",
    "\n",
    "class Level(Base):\n",
    "    __tablename__ = 'level'\n",
    "    id = Column(Integer, primary_key=True)\n",
    "    name = Column(String, nullable=False)\n",
    "\n",
    "Base.metadata.create_all(engine)"
   ]
  },
  {
   "cell_type": "markdown",
   "metadata": {},
   "source": [
    "## 添加数据"
   ]
  },
  {
   "cell_type": "code",
   "execution_count": 3,
   "metadata": {
    "collapsed": true
   },
   "outputs": [],
   "source": [
    "Session = sessionmaker(bind=engine)\n",
    "session = Session()"
   ]
  },
  {
   "cell_type": "code",
   "execution_count": 4,
   "metadata": {
    "collapsed": true
   },
   "outputs": [],
   "source": [
    "# 多条记录\n",
    "session.add_all([\n",
    "        Level(name='admin'),\n",
    "        Level(name='normal'),\n",
    "])\n",
    "session.commit()"
   ]
  },
  {
   "cell_type": "code",
   "execution_count": 5,
   "metadata": {
    "collapsed": true
   },
   "outputs": [],
   "source": [
    "# 单条记录\n",
    "session.add(User(name='wendy', fullname='Wendy Williams', password='foobar', level_id=0))\n",
    "user_mary = User(name='mary', fullname='Mary Contrary', password='xxg527', level=Level(name='admin'))\n",
    "session.add(user_mary)\n",
    "session.commit()"
   ]
  },
  {
   "cell_type": "markdown",
   "metadata": {},
   "source": [
    "## 读取数据"
   ]
  },
  {
   "cell_type": "code",
   "execution_count": 6,
   "metadata": {
    "collapsed": false
   },
   "outputs": [
    {
     "name": "stdout",
     "output_type": "stream",
     "text": [
      "fullname: Mary Contrary\n",
      "password: xxg527\n",
      "level: admin\n",
      "{'fullname': 'Mary Contrary', 'id': 2, 'password': 'xxg527', 'level_id': 3, 'name': 'mary'}\n"
     ]
    }
   ],
   "source": [
    "mary = session.query(User).filter_by(name='mary').first()\n",
    "print(\"fullname:\", mary.fullname)\n",
    "print(\"password:\", mary.password)\n",
    "print(\"level:\", mary.level.name)\n",
    "print(mary.as_dict())"
   ]
  },
  {
   "cell_type": "code",
   "execution_count": 7,
   "metadata": {
    "collapsed": false
   },
   "outputs": [
    {
     "data": {
      "text/plain": [
       "['__class__',\n",
       " '__delattr__',\n",
       " '__dict__',\n",
       " '__dir__',\n",
       " '__doc__',\n",
       " '__eq__',\n",
       " '__format__',\n",
       " '__ge__',\n",
       " '__getattribute__',\n",
       " '__gt__',\n",
       " '__hash__',\n",
       " '__init__',\n",
       " '__le__',\n",
       " '__lt__',\n",
       " '__mapper__',\n",
       " '__module__',\n",
       " '__ne__',\n",
       " '__new__',\n",
       " '__reduce__',\n",
       " '__reduce_ex__',\n",
       " '__repr__',\n",
       " '__setattr__',\n",
       " '__sizeof__',\n",
       " '__str__',\n",
       " '__subclasshook__',\n",
       " '__table__',\n",
       " '__tablename__',\n",
       " '__weakref__',\n",
       " '_decl_class_registry',\n",
       " '_sa_class_manager',\n",
       " '_sa_instance_state',\n",
       " 'as_dict',\n",
       " 'fullname',\n",
       " 'id',\n",
       " 'level',\n",
       " 'level_id',\n",
       " 'metadata',\n",
       " 'name',\n",
       " 'password']"
      ]
     },
     "execution_count": 7,
     "metadata": {},
     "output_type": "execute_result"
    }
   ],
   "source": [
    "dir(mary)"
   ]
  },
  {
   "cell_type": "code",
   "execution_count": 8,
   "metadata": {
    "collapsed": false
   },
   "outputs": [
    {
     "data": {
      "text/plain": [
       "['__and__',\n",
       " '__bool__',\n",
       " '__class__',\n",
       " '__delattr__',\n",
       " '__dict__',\n",
       " '__dir__',\n",
       " '__doc__',\n",
       " '__eq__',\n",
       " '__format__',\n",
       " '__ge__',\n",
       " '__getattribute__',\n",
       " '__getstate__',\n",
       " '__gt__',\n",
       " '__hash__',\n",
       " '__init__',\n",
       " '__invert__',\n",
       " '__le__',\n",
       " '__lt__',\n",
       " '__module__',\n",
       " '__ne__',\n",
       " '__new__',\n",
       " '__nonzero__',\n",
       " '__or__',\n",
       " '__reduce__',\n",
       " '__reduce_ex__',\n",
       " '__repr__',\n",
       " '__setattr__',\n",
       " '__sizeof__',\n",
       " '__str__',\n",
       " '__subclasshook__',\n",
       " '__visit_name__',\n",
       " '__weakref__',\n",
       " '_annotate',\n",
       " '_annotations',\n",
       " '_autoincrement_column',\n",
       " '_autoload',\n",
       " '_clone',\n",
       " '_cloned_set',\n",
       " '_cols_populated',\n",
       " '_columns',\n",
       " '_compiler',\n",
       " '_compiler_dispatch',\n",
       " '_constructor',\n",
       " '_copy_internals',\n",
       " '_deannotate',\n",
       " '_execute_on_connection',\n",
       " '_extra_dependencies',\n",
       " '_extra_kwargs',\n",
       " '_from_objects',\n",
       " '_hide_froms',\n",
       " '_init',\n",
       " '_init_collections',\n",
       " '_init_existing',\n",
       " '_init_items',\n",
       " '_is_clone_of',\n",
       " '_is_from_container',\n",
       " '_is_join',\n",
       " '_is_lexical_equivalent',\n",
       " '_is_select',\n",
       " '_kw_reg_for_dialect',\n",
       " '_kw_reg_for_dialect_cls',\n",
       " '_kw_registry',\n",
       " '_memoized_property',\n",
       " '_negate',\n",
       " '_order_by_label_element',\n",
       " '_params',\n",
       " '_populate_column_collection',\n",
       " '_prefixes',\n",
       " '_refresh_for_new_column',\n",
       " '_reset_exported',\n",
       " '_schema_item_copy',\n",
       " '_select_iterable',\n",
       " '_set_parent',\n",
       " '_set_parent_with_dispatch',\n",
       " '_sorted_constraints',\n",
       " '_textual',\n",
       " '_validate_dialect_kwargs',\n",
       " '_with_annotations',\n",
       " 'add_is_dependent_on',\n",
       " 'alias',\n",
       " 'append_column',\n",
       " 'append_constraint',\n",
       " 'append_ddl_listener',\n",
       " 'argument_for',\n",
       " 'bind',\n",
       " 'c',\n",
       " 'columns',\n",
       " 'compare',\n",
       " 'compile',\n",
       " 'constraints',\n",
       " 'correspond_on_equivalents',\n",
       " 'corresponding_column',\n",
       " 'count',\n",
       " 'create',\n",
       " 'delete',\n",
       " 'description',\n",
       " 'dialect_kwargs',\n",
       " 'dialect_options',\n",
       " 'dispatch',\n",
       " 'drop',\n",
       " 'exists',\n",
       " 'foreign_key_constraints',\n",
       " 'foreign_keys',\n",
       " 'fullname',\n",
       " 'get_children',\n",
       " 'implicit_returning',\n",
       " 'indexes',\n",
       " 'info',\n",
       " 'insert',\n",
       " 'is_clause_element',\n",
       " 'is_derived_from',\n",
       " 'is_selectable',\n",
       " 'join',\n",
       " 'key',\n",
       " 'kwargs',\n",
       " 'lateral',\n",
       " 'metadata',\n",
       " 'name',\n",
       " 'named_with_column',\n",
       " 'outerjoin',\n",
       " 'params',\n",
       " 'primary_key',\n",
       " 'quote',\n",
       " 'quote_schema',\n",
       " 'replace_selectable',\n",
       " 'schema',\n",
       " 'select',\n",
       " 'selectable',\n",
       " 'self_group',\n",
       " 'supports_execution',\n",
       " 'tablesample',\n",
       " 'tometadata',\n",
       " 'unique_params',\n",
       " 'update']"
      ]
     },
     "execution_count": 8,
     "metadata": {},
     "output_type": "execute_result"
    }
   ],
   "source": [
    "mary.__table__\n",
    "dir(mary.__table__)"
   ]
  },
  {
   "cell_type": "code",
   "execution_count": 9,
   "metadata": {
    "collapsed": false
   },
   "outputs": [
    {
     "data": {
      "text/plain": [
       "{ForeignKey('level.id')}"
      ]
     },
     "execution_count": 9,
     "metadata": {},
     "output_type": "execute_result"
    }
   ],
   "source": [
    "mary.__table__.foreign_keys"
   ]
  },
  {
   "cell_type": "markdown",
   "metadata": {},
   "source": [
    "## 更新数据"
   ]
  },
  {
   "cell_type": "code",
   "execution_count": 10,
   "metadata": {
    "collapsed": false
   },
   "outputs": [
    {
     "name": "stdout",
     "output_type": "stream",
     "text": [
      "fullname: 玛丽康利 ||password: xxg527\n"
     ]
    }
   ],
   "source": [
    "mary.fullname = \"玛丽康利\"\n",
    "session.commit()\n",
    "mary = session.query(User).filter_by(name='mary').first()\n",
    "print(\"fullname:\", mary.fullname, \"||password:\", mary.password)"
   ]
  },
  {
   "cell_type": "code",
   "execution_count": 12,
   "metadata": {
    "collapsed": false
   },
   "outputs": [
    {
     "name": "stdout",
     "output_type": "stream",
     "text": [
      "fullname: mary.tom ||password: xxg527\n"
     ]
    }
   ],
   "source": [
    "newdata = {\"fullname\": \"mary.tom\"}\n",
    "mary.__dict__.update(newdata)\n",
    "print(\"fullname:\", mary.fullname, \"||password:\", mary.password)"
   ]
  },
  {
   "cell_type": "code",
   "execution_count": null,
   "metadata": {
    "collapsed": false
   },
   "outputs": [],
   "source": [
    "table = User.__table__\n",
    "print(dict(table.columns))"
   ]
  },
  {
   "cell_type": "code",
   "execution_count": null,
   "metadata": {
    "collapsed": false
   },
   "outputs": [],
   "source": [
    "table = User.__table__\n",
    "cols = table.columns\n",
    "for col in cols:\n",
    "    print(col.name, col.type, type(col.type), isinstance(col.type, String), col.info)"
   ]
  },
  {
   "cell_type": "code",
   "execution_count": null,
   "metadata": {
    "collapsed": false
   },
   "outputs": [],
   "source": [
    "dir(Column)"
   ]
  },
  {
   "cell_type": "markdown",
   "metadata": {},
   "source": [
    "关于设置字段缺省值，参见：http://docs.sqlalchemy.org/en/latest/core/defaults.html"
   ]
  }
 ],
 "metadata": {
  "kernelspec": {
   "display_name": "Python 3",
   "language": "python",
   "name": "python3"
  },
  "language_info": {
   "codemirror_mode": {
    "name": "ipython",
    "version": 3
   },
   "file_extension": ".py",
   "mimetype": "text/x-python",
   "name": "python",
   "nbconvert_exporter": "python",
   "pygments_lexer": "ipython3",
   "version": "3.4.3"
  }
 },
 "nbformat": 4,
 "nbformat_minor": 0
}
