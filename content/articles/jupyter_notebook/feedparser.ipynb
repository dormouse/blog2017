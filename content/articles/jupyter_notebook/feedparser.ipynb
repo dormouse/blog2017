{
 "cells": [
  {
   "cell_type": "code",
   "execution_count": 1,
   "metadata": {
    "collapsed": true
   },
   "outputs": [],
   "source": [
    "import feedparser"
   ]
  },
  {
   "cell_type": "markdown",
   "metadata": {},
   "source": [
    "载入内容\n",
    "========"
   ]
  },
  {
   "cell_type": "code",
   "execution_count": 2,
   "metadata": {
    "collapsed": false
   },
   "outputs": [
    {
     "data": {
      "text/plain": [
       "'开源中国社区最新新闻'"
      ]
     },
     "execution_count": 2,
     "metadata": {},
     "output_type": "execute_result"
    }
   ],
   "source": [
    "# load from url\n",
    "d = feedparser.parse('http://www.oschina.net/news/rss')\n",
    "d['feed']['title']"
   ]
  },
  {
   "cell_type": "code",
   "execution_count": 3,
   "metadata": {
    "collapsed": false
   },
   "outputs": [
    {
     "ename": "KeyError",
     "evalue": "'title'",
     "traceback": [
      "\u001b[0;31m---------------------------------------------------------------------------\u001b[0m",
      "\u001b[0;31mKeyError\u001b[0m                                  Traceback (most recent call last)",
      "\u001b[0;32m<ipython-input-3-2fe05a3acff5>\u001b[0m in \u001b[0;36m<module>\u001b[0;34m()\u001b[0m\n\u001b[1;32m      1\u001b[0m \u001b[0;31m# load from loacl file\u001b[0m\u001b[0;34m\u001b[0m\u001b[0;34m\u001b[0m\u001b[0m\n\u001b[1;32m      2\u001b[0m \u001b[0md\u001b[0m \u001b[0;34m=\u001b[0m \u001b[0mfeedparser\u001b[0m\u001b[0;34m.\u001b[0m\u001b[0mparse\u001b[0m\u001b[0;34m(\u001b[0m\u001b[0;34m'oschina_news_rss.xml'\u001b[0m\u001b[0;34m)\u001b[0m\u001b[0;34m\u001b[0m\u001b[0m\n\u001b[0;32m----> 3\u001b[0;31m \u001b[0md\u001b[0m\u001b[0;34m[\u001b[0m\u001b[0;34m'feed'\u001b[0m\u001b[0;34m]\u001b[0m\u001b[0;34m[\u001b[0m\u001b[0;34m'title'\u001b[0m\u001b[0;34m]\u001b[0m\u001b[0;34m\u001b[0m\u001b[0m\n\u001b[0m",
      "\u001b[0;32m/usr/local/lib/python3.4/dist-packages/feedparser.py\u001b[0m in \u001b[0;36m__getitem__\u001b[0;34m(self, key)\u001b[0m\n\u001b[1;32m    355\u001b[0m             \u001b[0;32melif\u001b[0m \u001b[0mdict\u001b[0m\u001b[0;34m.\u001b[0m\u001b[0m__contains__\u001b[0m\u001b[0;34m(\u001b[0m\u001b[0mself\u001b[0m\u001b[0;34m,\u001b[0m \u001b[0mrealkey\u001b[0m\u001b[0;34m)\u001b[0m\u001b[0;34m:\u001b[0m\u001b[0;34m\u001b[0m\u001b[0m\n\u001b[1;32m    356\u001b[0m                 \u001b[0;32mreturn\u001b[0m \u001b[0mdict\u001b[0m\u001b[0;34m.\u001b[0m\u001b[0m__getitem__\u001b[0m\u001b[0;34m(\u001b[0m\u001b[0mself\u001b[0m\u001b[0;34m,\u001b[0m \u001b[0mrealkey\u001b[0m\u001b[0;34m)\u001b[0m\u001b[0;34m\u001b[0m\u001b[0m\n\u001b[0;32m--> 357\u001b[0;31m         \u001b[0;32mreturn\u001b[0m \u001b[0mdict\u001b[0m\u001b[0;34m.\u001b[0m\u001b[0m__getitem__\u001b[0m\u001b[0;34m(\u001b[0m\u001b[0mself\u001b[0m\u001b[0;34m,\u001b[0m \u001b[0mkey\u001b[0m\u001b[0;34m)\u001b[0m\u001b[0;34m\u001b[0m\u001b[0m\n\u001b[0m\u001b[1;32m    358\u001b[0m \u001b[0;34m\u001b[0m\u001b[0m\n\u001b[1;32m    359\u001b[0m     \u001b[0;32mdef\u001b[0m \u001b[0m__contains__\u001b[0m\u001b[0;34m(\u001b[0m\u001b[0mself\u001b[0m\u001b[0;34m,\u001b[0m \u001b[0mkey\u001b[0m\u001b[0;34m)\u001b[0m\u001b[0;34m:\u001b[0m\u001b[0;34m\u001b[0m\u001b[0m\n",
      "\u001b[0;31mKeyError\u001b[0m: 'title'"
     ],
     "output_type": "error"
    }
   ],
   "source": [
    "# load from loacl file\n",
    "d = feedparser.parse('oschina_news_rss.xml')\n",
    "d['feed']['title']"
   ]
  },
  {
   "cell_type": "code",
   "execution_count": 4,
   "metadata": {
    "collapsed": false
   },
   "outputs": [
    {
     "data": {
      "text/plain": [
       "'开源中国社区最新新闻'"
      ]
     },
     "execution_count": 4,
     "metadata": {},
     "output_type": "execute_result"
    }
   ],
   "source": [
    "rawdata = \"\"\"<rss version=\"2.0\">\n",
    "<channel>\n",
    "<title>开源中国社区最新新闻</title>\n",
    "</channel>\n",
    "</rss>\"\"\"\n",
    "d = feedparser.parse(rawdata)\n",
    "d['feed']['title']"
   ]
  },
  {
   "cell_type": "markdown",
   "metadata": {},
   "source": [
    "常见 RSS 元素\n",
    "========"
   ]
  },
  {
   "cell_type": "markdown",
   "metadata": {},
   "source": [
    "获取 Channel 元素\n",
    "--------------------------"
   ]
  },
  {
   "cell_type": "code",
   "execution_count": 5,
   "metadata": {
    "collapsed": true
   },
   "outputs": [],
   "source": [
    "# rss20 example\n",
    "rss20=\"\"\"<?xml version=\"1.0\" encoding=\"utf-8\"?>\n",
    "<rss version=\"2.0\">\n",
    "<channel>\n",
    "<title>Sample Feed</title>\n",
    "<description>For documentation &lt;em&gt;only&lt;/em&gt;</description>\n",
    "<link>http://example.org/</link>\n",
    "<pubDate>Sat, 07 Sep 2002 00:00:01 GMT</pubDate>\n",
    "<!-- other elements omitted from this example -->\n",
    "<item>\n",
    "<title>First entry title</title>\n",
    "<link>http://example.org/entry/3</link>\n",
    "<description>Watch out for &lt;span style=\"background-image:\n",
    "url(javascript:window.location='http://example.org/')\"&gt;nasty\n",
    "tricks&lt;/span&gt;</description>\n",
    "<pubDate>Thu, 05 Sep 2002 00:00:01 GMT</pubDate>\n",
    "<guid>http://example.org/entry/3</guid>\n",
    "<!-- other elements omitted from this example -->\n",
    "</item>\n",
    "</channel>\n",
    "</rss>\"\"\""
   ]
  },
  {
   "cell_type": "code",
   "execution_count": 6,
   "metadata": {
    "collapsed": false
   },
   "outputs": [
    {
     "name": "stdout",
     "output_type": "stream",
     "text": [
      "Sample Feed\n",
      "http://example.org/\n",
      "For documentation <em>only</em>\n",
      "Sat, 07 Sep 2002 00:00:01 GMT\n",
      "time.struct_time(tm_year=2002, tm_mon=9, tm_mday=7, tm_hour=0, tm_min=0, tm_sec=1, tm_wday=5, tm_yday=250, tm_isdst=0)\n"
     ]
    }
   ],
   "source": [
    "# RSS feed 的常见元素有 title 、 link 、 description 、 publication date(pubDate) 和 entry ID(guid) 。\n",
    "d = feedparser.parse(rss20)\n",
    "# d.feed 是 channel 元素\n",
    "print(d.feed.title)\n",
    "print(d.feed.link)\n",
    "print(d.feed.description)\n",
    "print(d.feed.published)\n",
    "print(d.feed.published_parsed)"
   ]
  },
  {
   "cell_type": "markdown",
   "metadata": {},
   "source": [
    "获取 Item 元素\n",
    "--------------"
   ]
  },
  {
   "cell_type": "code",
   "execution_count": 7,
   "metadata": {
    "collapsed": false
   },
   "outputs": [
    {
     "name": "stdout",
     "output_type": "stream",
     "text": [
      "First entry title\n",
      "http://example.org/entry/3\n",
      "Watch out for <span style=\"background-image:\n",
      "url(javascript:window.location='http://example.org/')\">nasty\n",
      "tricks</span>\n",
      "Thu, 05 Sep 2002 00:00:01 GMT\n",
      "time.struct_time(tm_year=2002, tm_mon=9, tm_mday=5, tm_hour=0, tm_min=0, tm_sec=1, tm_wday=3, tm_yday=248, tm_isdst=0)\n",
      "http://example.org/entry/3\n"
     ]
    }
   ],
   "source": [
    "# entries 是一个 item 组成的 list ，其顺序就是 rss 文件中的顺序\n",
    "print(d.entries[0].title)\n",
    "print(d.entries[0].link)\n",
    "print(d.entries[0].description)\n",
    "print(d.entries[0].published)\n",
    "print(d.entries[0].published_parsed)\n",
    "print(d.entries[0].id)"
   ]
  },
  {
   "cell_type": "markdown",
   "metadata": {},
   "source": [
    "常见  Atom 元素\n",
    "========\n",
    "\n",
    "Atom feeds generally contain more information than RSS feeds (because more elements are required), but the most commonly used elements are still title, link, subtitle/description, various dates, and ID."
   ]
  },
  {
   "cell_type": "code",
   "execution_count": 8,
   "metadata": {
    "collapsed": true
   },
   "outputs": [],
   "source": [
    "atom10 = \"\"\"<?xml version=\"1.0\" encoding=\"utf-8\"?>\n",
    "<feed xmlns=\"http://www.w3.org/2005/Atom\"\n",
    "xml:base=\"http://example.org/\"\n",
    "xml:lang=\"en\">\n",
    "<title type=\"text\">Sample Feed</title>\n",
    "<subtitle type=\"html\">\n",
    "For documentation &lt;em&gt;only&lt;/em&gt;\n",
    "</subtitle>\n",
    "<link rel=\"alternate\" href=\"/\"/>\n",
    "<link rel=\"self\"\n",
    "type=\"application/atom+xml\"\n",
    "href=\"http://www.example.org/atom10.xml\"/>\n",
    "<rights type=\"html\">\n",
    "&lt;p>Copyright 2005, Mark Pilgrim&lt;/p>&lt;\n",
    "</rights>\n",
    "<id>tag:feedparser.org,2005-11-09:/docs/examples/atom10.xml</id>\n",
    "<generator\n",
    "uri=\"http://example.org/generator/\"\n",
    "version=\"4.0\">\n",
    "Sample Toolkit\n",
    "</generator>\n",
    "<updated>2005-11-09T11:56:34Z</updated>\n",
    "<entry>\n",
    "<title>First entry title</title>\n",
    "<link rel=\"alternate\"\n",
    "href=\"/entry/3\"/>\n",
    "<link rel=\"related\"\n",
    "type=\"text/html\"\n",
    "href=\"http://search.example.com/\"/>\n",
    "<link rel=\"via\"\n",
    "type=\"text/html\"\n",
    "href=\"http://toby.example.com/examples/atom10\"/>\n",
    "<link rel=\"enclosure\"\n",
    "type=\"video/mpeg4\"\n",
    "href=\"http://www.example.com/movie.mp4\"\n",
    "length=\"42301\"/>\n",
    "<id>tag:feedparser.org,2005-11-09:/docs/examples/atom10.xml:3</id>\n",
    "<published>2005-11-09T00:23:47Z</published>\n",
    "<updated>2005-11-09T11:56:34Z</updated>\n",
    "<summary type=\"text/plain\" mode=\"escaped\">Watch out for nasty tricks</summary>\n",
    "<content type=\"application/xhtml+xml\" mode=\"xml\"\n",
    "xml:base=\"http://example.org/entry/3\" xml:lang=\"en-US\">\n",
    "<div xmlns=\"http://www.w3.org/1999/xhtml\">Watch out for\n",
    "<span style=\"background: url(javascript:window.location='http://example.org/')\">\n",
    "nasty tricks</span></div>\n",
    "</content>\n",
    "</entry>\n",
    "</feed>\"\"\""
   ]
  },
  {
   "cell_type": "code",
   "execution_count": 9,
   "metadata": {
    "collapsed": false
   },
   "outputs": [
    {
     "name": "stdout",
     "output_type": "stream",
     "text": [
      "Sample Feed\n",
      "http://example.org/\n",
      "For documentation <em>only</em>\n",
      "2005-11-09T11:56:34Z\n",
      "time.struct_time(tm_year=2005, tm_mon=11, tm_mday=9, tm_hour=11, tm_min=56, tm_sec=34, tm_wday=2, tm_yday=313, tm_isdst=0)\n",
      "tag:feedparser.org,2005-11-09:/docs/examples/atom10.xml\n"
     ]
    }
   ],
   "source": [
    "d = feedparser.parse(atom10)\n",
    "print(d.feed.title)\n",
    "print(d.feed.link)\n",
    "print(d.feed.subtitle)\n",
    "print(d.feed.updated)\n",
    "print(d.feed.updated_parsed)\n",
    "print(d.feed.id)"
   ]
  },
  {
   "cell_type": "code",
   "execution_count": 10,
   "metadata": {
    "collapsed": false
   },
   "outputs": [
    {
     "name": "stdout",
     "output_type": "stream",
     "text": [
      "First entry title\n",
      "http://example.org/entry/3\n",
      "tag:feedparser.org,2005-11-09:/docs/examples/atom10.xml:3\n",
      "2005-11-09T00:23:47Z\n",
      "time.struct_time(tm_year=2005, tm_mon=11, tm_mday=9, tm_hour=0, tm_min=23, tm_sec=47, tm_wday=2, tm_yday=313, tm_isdst=0)\n",
      "2005-11-09T11:56:34Z\n",
      "time.struct_time(tm_year=2005, tm_mon=11, tm_mday=9, tm_hour=11, tm_min=56, tm_sec=34, tm_wday=2, tm_yday=313, tm_isdst=0)\n",
      "Watch out for nasty tricks\n",
      "[{'type': 'application/xhtml+xml', 'language': 'en-US', 'value': 'Watch out for\\n<span style=\"background: url(javascript:window.location=\\'http://example.org/\\')\">\\nnasty tricks</span>', 'base': 'http://example.org/entry/3'}]\n"
     ]
    }
   ],
   "source": [
    "print(d.entries[0].title)\n",
    "print(d.entries[0].link)\n",
    "print(d.entries[0].id)\n",
    "print(d.entries[0].published)\n",
    "print(d.entries[0].published_parsed)\n",
    "print(d.entries[0].updated)\n",
    "print(d.entries[0].updated_parsed)\n",
    "print(d.entries[0].summary)\n",
    "print(d.entries[0].content)"
   ]
  },
  {
   "cell_type": "markdown",
   "metadata": {},
   "source": [
    ".. note::\n",
    "\n",
    "    The parsed summary and content are not the same as they appear in the\n",
    "    original feed. The original elements contained dangerous :abbr:`HTML\n",
    "    (HyperText Markup Language)` markup which was sanitized. See\n",
    "    :ref:`advanced.sanitization` for details.\n",
    "\n",
    "Because Atom entries can have more than one content element,\n",
    "``d.entries[0].content`` is a list of dictionaries. Each dictionary contains\n",
    "metadata about a single content element. The two most important values in the\n",
    "dictionary are the content type, in ``d.entries[0].content[0].type``, and the\n",
    "actual content value, in ``d.entries[0].content[0].value``.\n",
    "\n",
    "You can get this level of detail on other Atom elements too."
   ]
  },
  {
   "cell_type": "markdown",
   "metadata": {},
   "source": [
    "Getting Detailed Information on Atom Elements\n",
    "---------------------------------------------\n",
    "Several Atom elements share the Atom content model: title, subtitle, rights, summary, and of course content. \n",
    "(Atom 0.3 also had an info element which shared this content model.) \n",
    "Universal Feed Parser captures all relevant metadata about these elements, most importantly the content type and the value itself."
   ]
  },
  {
   "cell_type": "code",
   "execution_count": 11,
   "metadata": {
    "collapsed": false
   },
   "outputs": [
    {
     "name": "stdout",
     "output_type": "stream",
     "text": [
      "{'type': 'text/plain', 'language': 'en', 'value': 'Sample Feed', 'base': 'http://example.org/'}\n",
      "{'type': 'text/html', 'language': 'en', 'value': 'For documentation <em>only</em>', 'base': 'http://example.org/'}\n",
      "{'type': 'text/html', 'language': 'en', 'value': '<p>Copyright 2005, Mark Pilgrim</p><', 'base': 'http://example.org/'}\n",
      "{'type': 'text/plain', 'language': 'en', 'value': 'First entry title', 'base': 'http://example.org/'}\n",
      "{'type': 'text/plain', 'language': 'en', 'value': 'Watch out for nasty tricks', 'base': 'http://example.org/'}\n",
      "1\n",
      "{'type': 'application/xhtml+xml', 'language': 'en-US', 'value': 'Watch out for\\n<span style=\"background: url(javascript:window.location=\\'http://example.org/\\')\">\\nnasty tricks</span>', 'base': 'http://example.org/entry/3'}\n"
     ]
    }
   ],
   "source": [
    "print(d.feed.title_detail)\n",
    "print(d.feed.subtitle_detail)\n",
    "print(d.feed.rights_detail)\n",
    "print(d.entries[0].title_detail)\n",
    "print(d.entries[0].summary_detail)\n",
    "print(len(d.entries[0].content))\n",
    "print(d.entries[0].content[0])"
   ]
  }
 ],
 "metadata": {
  "kernelspec": {
   "display_name": "Python 3",
   "language": "python",
   "name": "python3"
  },
  "language_info": {
   "codemirror_mode": {
    "name": "ipython",
    "version": 3.0
   },
   "file_extension": ".py",
   "mimetype": "text/x-python",
   "name": "python",
   "nbconvert_exporter": "python",
   "pygments_lexer": "ipython3",
   "version": "3.4.3"
  }
 },
 "nbformat": 4,
 "nbformat_minor": 0
}