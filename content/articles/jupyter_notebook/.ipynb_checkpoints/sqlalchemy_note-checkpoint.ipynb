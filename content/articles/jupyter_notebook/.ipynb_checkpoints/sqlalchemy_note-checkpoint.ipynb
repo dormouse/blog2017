{
 "cells": [
  {
   "cell_type": "markdown",
   "metadata": {},
   "source": [
    "# sqlalchemy note"
   ]
  },
  {
   "cell_type": "code",
   "execution_count": 72,
   "metadata": {
    "collapsed": false
   },
   "outputs": [
    {
     "data": {
      "text/plain": [
       "'1.1.4'"
      ]
     },
     "execution_count": 72,
     "metadata": {},
     "output_type": "execute_result"
    }
   ],
   "source": [
    "import sqlalchemy\n",
    "sqlalchemy.__version__"
   ]
  },
  {
   "cell_type": "markdown",
   "metadata": {},
   "source": [
    "## 创建示例数据库"
   ]
  },
  {
   "cell_type": "code",
   "execution_count": 73,
   "metadata": {
    "collapsed": false
   },
   "outputs": [],
   "source": [
    "from sqlalchemy import create_engine\n",
    "# engine = create_engine('sqlite:///:memory:', echo=True) #显示引擎信息\n",
    "engine = create_engine('sqlite:///:memory:', echo=False)\n",
    "from sqlalchemy.ext.declarative import declarative_base\n",
    "Base = declarative_base()\n",
    "from sqlalchemy import Column, Integer, String\n",
    "class User(Base):\n",
    "    __tablename__ = 'users'\n",
    "    id = Column(Integer, primary_key=True)\n",
    "    name = Column(\n",
    "        String,\n",
    "        default=\"未命名\",\n",
    "        info={\n",
    "            \"width\":50,\n",
    "            \"heigh\":100\n",
    "        }\n",
    "    )\n",
    "    fullname = Column(String)\n",
    "    password = Column(String)\n",
    "\n",
    "    def __repr__(self):\n",
    "        return \"<User(name='%s', fullname='%s', password='%s')>\" % (\n",
    "            self.name, self.fullname, self.password)\n",
    "Base.metadata.create_all(engine)"
   ]
  },
  {
   "cell_type": "markdown",
   "metadata": {},
   "source": [
    "## 添加数据"
   ]
  },
  {
   "cell_type": "code",
   "execution_count": 74,
   "metadata": {
    "collapsed": false
   },
   "outputs": [
    {
     "name": "stdout",
     "output_type": "stream",
     "text": [
      "未命名\n"
     ]
    }
   ],
   "source": [
    "from sqlalchemy.orm import sessionmaker\n",
    "Session = sessionmaker(bind=engine)\n",
    "session = Session()\n",
    "# 单条记录\n",
    "jack = User()\n",
    "session.add(jack)\n",
    "session.commit()\n",
    "print(jack.name)\n",
    "# 多条记录\n",
    "session.add_all([\n",
    "        User(name='wendy', fullname='Wendy Williams', password='foobar'),\n",
    "        User(name='mary', fullname='Mary Contrary', password='xxg527'),\n",
    "        User(name='fred', fullname='Fred Flinstone', password='blah')])\n",
    "session.commit()"
   ]
  },
  {
   "cell_type": "markdown",
   "metadata": {},
   "source": [
    "## 读取数据"
   ]
  },
  {
   "cell_type": "code",
   "execution_count": 75,
   "metadata": {
    "collapsed": false
   },
   "outputs": [
    {
     "name": "stdout",
     "output_type": "stream",
     "text": [
      "fullname: Mary Contrary ||password: xxg527\n"
     ]
    }
   ],
   "source": [
    "mary = session.query(User).filter_by(name='mary').first()\n",
    "print(\"fullname:\", mary.fullname, \"||password:\", mary.password)"
   ]
  },
  {
   "cell_type": "markdown",
   "metadata": {},
   "source": [
    "## 更新数据"
   ]
  },
  {
   "cell_type": "code",
   "execution_count": 76,
   "metadata": {
    "collapsed": false
   },
   "outputs": [
    {
     "name": "stdout",
     "output_type": "stream",
     "text": [
      "fullname: 玛丽康利 ||password: xxg527\n"
     ]
    }
   ],
   "source": [
    "mary.fullname = \"玛丽康利\"\n",
    "session.commit()\n",
    "mary = session.query(User).filter_by(name='mary').first()\n",
    "print(\"fullname:\", mary.fullname, \"||password:\", mary.password)"
   ]
  },
  {
   "cell_type": "code",
   "execution_count": 77,
   "metadata": {
    "collapsed": false
   },
   "outputs": [
    {
     "data": {
      "text/plain": [
       "['__add__',\n",
       " '__class__',\n",
       " '__contains__',\n",
       " '__delattr__',\n",
       " '__delitem__',\n",
       " '__dict__',\n",
       " '__dir__',\n",
       " '__doc__',\n",
       " '__eq__',\n",
       " '__format__',\n",
       " '__ge__',\n",
       " '__getattr__',\n",
       " '__getattribute__',\n",
       " '__getitem__',\n",
       " '__getstate__',\n",
       " '__gt__',\n",
       " '__hash__',\n",
       " '__init__',\n",
       " '__iter__',\n",
       " '__le__',\n",
       " '__len__',\n",
       " '__lt__',\n",
       " '__module__',\n",
       " '__ne__',\n",
       " '__new__',\n",
       " '__reduce__',\n",
       " '__reduce_ex__',\n",
       " '__repr__',\n",
       " '__setattr__',\n",
       " '__setitem__',\n",
       " '__setstate__',\n",
       " '__sizeof__',\n",
       " '__slots__',\n",
       " '__str__',\n",
       " '__subclasshook__',\n",
       " '__weakref__',\n",
       " '_all_columns',\n",
       " '_data',\n",
       " '_immutable',\n",
       " 'add',\n",
       " 'as_immutable',\n",
       " 'clear',\n",
       " 'contains_column',\n",
       " 'extend',\n",
       " 'get',\n",
       " 'has_key',\n",
       " 'items',\n",
       " 'keys',\n",
       " 'remove',\n",
       " 'replace',\n",
       " 'update',\n",
       " 'values']"
      ]
     },
     "execution_count": 77,
     "metadata": {},
     "output_type": "execute_result"
    }
   ],
   "source": [
    "dir(table.columns)"
   ]
  },
  {
   "cell_type": "code",
   "execution_count": 78,
   "metadata": {
    "collapsed": false
   },
   "outputs": [
    {
     "data": {
      "text/plain": [
       "{'fullname': Column('fullname', String(), table=<users>),\n",
       " 'id': Column('id', Integer(), table=<users>, primary_key=True, nullable=False),\n",
       " 'name': Column('name', String(), table=<users>, default=ColumnDefault('未命名')),\n",
       " 'password': Column('password', String(), table=<users>)}"
      ]
     },
     "execution_count": 78,
     "metadata": {},
     "output_type": "execute_result"
    }
   ],
   "source": [
    "dict(table.columns)"
   ]
  },
  {
   "cell_type": "code",
   "execution_count": 79,
   "metadata": {
    "collapsed": false
   },
   "outputs": [
    {
     "name": "stdout",
     "output_type": "stream",
     "text": [
      "{'id': Column('id', Integer(), table=<users>, primary_key=True, nullable=False), 'fullname': Column('fullname', String(), table=<users>), 'password': Column('password', String(), table=<users>), 'name': Column('name', String(), table=<users>, default=ColumnDefault('未命名'))}\n"
     ]
    }
   ],
   "source": [
    "table = User.__table__\n",
    "print(dict(table.columns))"
   ]
  },
  {
   "cell_type": "code",
   "execution_count": 80,
   "metadata": {
    "collapsed": false
   },
   "outputs": [
    {
     "name": "stdout",
     "output_type": "stream",
     "text": [
      "id INTEGER <class 'sqlalchemy.sql.sqltypes.Integer'> False {}\n",
      "name VARCHAR <class 'sqlalchemy.sql.sqltypes.String'> True {'heigh': 100, 'width': 50}\n",
      "fullname VARCHAR <class 'sqlalchemy.sql.sqltypes.String'> True {}\n",
      "password VARCHAR <class 'sqlalchemy.sql.sqltypes.String'> True {}\n"
     ]
    }
   ],
   "source": [
    "table = User.__table__\n",
    "cols = table.columns\n",
    "for col in cols:\n",
    "    print(col.name, col.type, type(col.type), isinstance(col.type, String), col.info)"
   ]
  },
  {
   "cell_type": "code",
   "execution_count": 81,
   "metadata": {
    "collapsed": false
   },
   "outputs": [
    {
     "data": {
      "text/plain": [
       "['__add__',\n",
       " '__and__',\n",
       " '__bool__',\n",
       " '__class__',\n",
       " '__contains__',\n",
       " '__delattr__',\n",
       " '__dict__',\n",
       " '__dir__',\n",
       " '__div__',\n",
       " '__doc__',\n",
       " '__eq__',\n",
       " '__format__',\n",
       " '__ge__',\n",
       " '__getattr__',\n",
       " '__getattribute__',\n",
       " '__getitem__',\n",
       " '__getstate__',\n",
       " '__gt__',\n",
       " '__hash__',\n",
       " '__init__',\n",
       " '__invert__',\n",
       " '__le__',\n",
       " '__lshift__',\n",
       " '__lt__',\n",
       " '__mod__',\n",
       " '__module__',\n",
       " '__mul__',\n",
       " '__ne__',\n",
       " '__neg__',\n",
       " '__new__',\n",
       " '__nonzero__',\n",
       " '__or__',\n",
       " '__radd__',\n",
       " '__rdiv__',\n",
       " '__reduce__',\n",
       " '__reduce_ex__',\n",
       " '__repr__',\n",
       " '__rmod__',\n",
       " '__rmul__',\n",
       " '__rshift__',\n",
       " '__rsub__',\n",
       " '__rtruediv__',\n",
       " '__setattr__',\n",
       " '__sizeof__',\n",
       " '__slots__',\n",
       " '__str__',\n",
       " '__sub__',\n",
       " '__subclasshook__',\n",
       " '__truediv__',\n",
       " '__visit_name__',\n",
       " '__weakref__',\n",
       " '_allow_label_resolve',\n",
       " '_alt_names',\n",
       " '_annotate',\n",
       " '_annotations',\n",
       " '_bind_param',\n",
       " '_clone',\n",
       " '_cloned_set',\n",
       " '_compare_name_for_result',\n",
       " '_compiler',\n",
       " '_compiler_dispatch',\n",
       " '_constructor',\n",
       " '_copy_internals',\n",
       " '_deannotate',\n",
       " '_execute_on_connection',\n",
       " '_from_objects',\n",
       " '_gen_label',\n",
       " '_get_table',\n",
       " '_init_items',\n",
       " '_is_clone_of',\n",
       " '_is_from_container',\n",
       " '_key_label',\n",
       " '_label',\n",
       " '_make_proxy',\n",
       " '_memoized_property',\n",
       " '_negate',\n",
       " '_on_table_attach',\n",
       " '_order_by_label_element',\n",
       " '_params',\n",
       " '_render_label_in_columns_clause',\n",
       " '_resolve_label',\n",
       " '_schema_item_copy',\n",
       " '_select_iterable',\n",
       " '_set_parent',\n",
       " '_set_parent_with_dispatch',\n",
       " '_set_table',\n",
       " '_setup_on_memoized_fks',\n",
       " '_with_annotations',\n",
       " 'all_',\n",
       " 'anon_label',\n",
       " 'any_',\n",
       " 'append_foreign_key',\n",
       " 'asc',\n",
       " 'base_columns',\n",
       " 'between',\n",
       " 'bind',\n",
       " 'cast',\n",
       " 'collate',\n",
       " 'comparator',\n",
       " 'compare',\n",
       " 'compile',\n",
       " 'concat',\n",
       " 'contains',\n",
       " 'copy',\n",
       " 'default',\n",
       " 'desc',\n",
       " 'description',\n",
       " 'dispatch',\n",
       " 'distinct',\n",
       " 'endswith',\n",
       " 'expression',\n",
       " 'foreign_keys',\n",
       " 'get_children',\n",
       " 'ilike',\n",
       " 'in_',\n",
       " 'info',\n",
       " 'is_',\n",
       " 'is_clause_element',\n",
       " 'is_distinct_from',\n",
       " 'is_selectable',\n",
       " 'isnot',\n",
       " 'isnot_distinct_from',\n",
       " 'key',\n",
       " 'label',\n",
       " 'like',\n",
       " 'match',\n",
       " 'notilike',\n",
       " 'notin_',\n",
       " 'notlike',\n",
       " 'nullsfirst',\n",
       " 'nullslast',\n",
       " 'onupdate',\n",
       " 'op',\n",
       " 'operate',\n",
       " 'params',\n",
       " 'primary_key',\n",
       " 'proxy_set',\n",
       " 'quote',\n",
       " 'references',\n",
       " 'reverse_operate',\n",
       " 'self_group',\n",
       " 'server_default',\n",
       " 'server_onupdate',\n",
       " 'shares_lineage',\n",
       " 'startswith',\n",
       " 'supports_execution',\n",
       " 'table',\n",
       " 'timetuple',\n",
       " 'type',\n",
       " 'unique_params']"
      ]
     },
     "execution_count": 81,
     "metadata": {},
     "output_type": "execute_result"
    }
   ],
   "source": [
    "dir(Column)"
   ]
  },
  {
   "cell_type": "markdown",
   "metadata": {},
   "source": [
    "关于设置字段缺省值，参见：http://docs.sqlalchemy.org/en/latest/core/defaults.html"
   ]
  }
 ],
 "metadata": {
  "kernelspec": {
   "display_name": "Python 3",
   "language": "python",
   "name": "python3"
  },
  "language_info": {
   "codemirror_mode": {
    "name": "ipython",
    "version": 3
   },
   "file_extension": ".py",
   "mimetype": "text/x-python",
   "name": "python",
   "nbconvert_exporter": "python",
   "pygments_lexer": "ipython3",
   "version": "3.5.2"
  }
 },
 "nbformat": 4,
 "nbformat_minor": 0
}
